{
 "cells": [
  {
   "cell_type": "code",
   "execution_count": 1,
   "id": "04bcceae",
   "metadata": {},
   "outputs": [],
   "source": [
    "import numpy as np\n",
    "import pandas as pd\n",
    "from sklearn.model_selection import train_test_split\n",
    "from sklearn.linear_model import LinearRegression\n",
    "from flask import Flask, request, jsonify, render_template\n",
    "import pickle\n",
    "import json"
   ]
  },
  {
   "cell_type": "code",
   "execution_count": 2,
   "id": "a3839e75",
   "metadata": {},
   "outputs": [],
   "source": [
    "salary_data = pd.read_csv(\"/Users/bhargavaramarajudandu/Desktop/Data Glacier Virtual Internship/model deployment using flask/dataset/Salary_Data.csv\")\n",
    "X = salary_data.iloc[:, :-1].values\n",
    "y = salary_data.iloc[:, 1].values\n"
   ]
  },
  {
   "cell_type": "code",
   "execution_count": 3,
   "id": "c052d796",
   "metadata": {},
   "outputs": [],
   "source": [
    "X_train, X_test, y_train, y_test = train_test_split(X, y, test_size = 0.33, random_state = 0)\n"
   ]
  },
  {
   "cell_type": "code",
   "execution_count": 4,
   "id": "b17dbc20",
   "metadata": {},
   "outputs": [
    {
     "name": "stdout",
     "output_type": "stream",
     "text": [
      "[ 40835.10590871 123079.39940819  65134.55626083  63265.36777221\n",
      " 115602.64545369 108125.8914992  116537.23969801  64199.96201652\n",
      "  76349.68719258 100649.1375447 ]\n"
     ]
    }
   ],
   "source": [
    "regressor = LinearRegression()\n",
    "regressor.fit(X_train, y_train)\n",
    "y_pred = regressor.predict(X_test)\n",
    "print(y_pred)"
   ]
  },
  {
   "cell_type": "code",
   "execution_count": 5,
   "id": "46abfc17",
   "metadata": {},
   "outputs": [],
   "source": [
    "#Save the model in disk\n"
   ]
  },
  {
   "cell_type": "code",
   "execution_count": 6,
   "id": "ab1ea57c",
   "metadata": {},
   "outputs": [],
   "source": [
    "pickle.dump(regressor, open('model.pkl','wb'))\n"
   ]
  },
  {
   "cell_type": "code",
   "execution_count": 7,
   "id": "8de1f46e",
   "metadata": {},
   "outputs": [
    {
     "name": "stdout",
     "output_type": "stream",
     "text": [
      "[43638.88864165]\n"
     ]
    }
   ],
   "source": [
    "model = pickle.load(open('model.pkl','rb'))\n",
    "print(model.predict([[1.8]]))"
   ]
  },
  {
   "cell_type": "code",
   "execution_count": 8,
   "id": "7aafcad8",
   "metadata": {},
   "outputs": [],
   "source": [
    "#Deployment of Model\n"
   ]
  },
  {
   "cell_type": "code",
   "execution_count": 9,
   "id": "a13f6884",
   "metadata": {},
   "outputs": [],
   "source": [
    "\n",
    "app = Flask(__name__)\n",
    "model = pickle.load(open('model.pkl','rb'))\n"
   ]
  },
  {
   "cell_type": "code",
   "execution_count": 10,
   "id": "98359762",
   "metadata": {},
   "outputs": [],
   "source": [
    "@app.route(\"/\")\n",
    "def home():\n",
    "    return render_template(\"index.html\")"
   ]
  },
  {
   "cell_type": "code",
   "execution_count": 11,
   "id": "eacad848",
   "metadata": {},
   "outputs": [],
   "source": [
    "\n",
    "@app.route('/',methods=['POST'])\n",
    "def predict():\n",
    "    data = request.get_json(force=True)\n",
    "    prediction = model.predict([[np.array(data['exp'])]])\n",
    "    output = prediction[0]\n",
    "    return jsonify(output)"
   ]
  },
  {
   "cell_type": "code",
   "execution_count": 12,
   "id": "d7944d09",
   "metadata": {
    "scrolled": true
   },
   "outputs": [
    {
     "name": "stdout",
     "output_type": "stream",
     "text": [
      " * Serving Flask app \"__main__\" (lazy loading)\n",
      " * Environment: production\n",
      "\u001b[31m   WARNING: This is a development server. Do not use it in a production deployment.\u001b[0m\n",
      "\u001b[2m   Use a production WSGI server instead.\u001b[0m\n",
      " * Debug mode: off\n"
     ]
    },
    {
     "name": "stderr",
     "output_type": "stream",
     "text": [
      " * Running on http://127.0.0.1:5000/ (Press CTRL+C to quit)\n"
     ]
    }
   ],
   "source": [
    "if __name__ == '__main__':\n",
    "    app.run(port=5000)"
   ]
  },
  {
   "cell_type": "code",
   "execution_count": null,
   "id": "3007cebd",
   "metadata": {},
   "outputs": [],
   "source": []
  }
 ],
 "metadata": {
  "kernelspec": {
   "display_name": "Python 3",
   "language": "python",
   "name": "python3"
  },
  "language_info": {
   "codemirror_mode": {
    "name": "ipython",
    "version": 3
   },
   "file_extension": ".py",
   "mimetype": "text/x-python",
   "name": "python",
   "nbconvert_exporter": "python",
   "pygments_lexer": "ipython3",
   "version": "3.8.8"
  }
 },
 "nbformat": 4,
 "nbformat_minor": 5
}
